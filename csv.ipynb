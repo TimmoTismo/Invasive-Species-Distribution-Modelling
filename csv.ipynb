{
 "cells": [
  {
   "cell_type": "code",
   "execution_count": 11,
   "metadata": {},
   "outputs": [],
   "source": [
    "import pandas as pd\n",
    "\n",
    "data = pd.read_csv('Datasets/NBN/Invasive_BIrds (2)/Invasive_BIrds.csv')"
   ]
  },
  {
   "cell_type": "code",
   "execution_count": 14,
   "metadata": {},
   "outputs": [
    {
     "data": {
      "text/plain": [
       "Common name\n",
       "Mute Swan               117831\n",
       "Pheasant                 92462\n",
       "Canada Goose             50344\n",
       "Rock Dove                31449\n",
       "Red-legged Partridge     22395\n",
       "Wigeon                   14065\n",
       "Gadwall                  12514\n",
       "Little Owl                9206\n",
       "Pochard                   8013\n",
       "Grey Partridge            7671\n",
       "Pink-footed Goose         7573\n",
       "Ring-necked Parakeet      5265\n",
       "Pintail                   4262\n",
       "Egyptian Goose            4069\n",
       "Mandarin Duck             3852\n",
       "Whooper Swan              2790\n",
       "Goshawk                   2554\n",
       "Barnacle Goose            1692\n",
       "Indian Peafowl            1055\n",
       "Ruddy Duck                 609\n",
       "dtype: int64"
      ]
     },
     "execution_count": 14,
     "metadata": {},
     "output_type": "execute_result"
    }
   ],
   "source": [
    "# Returns pandas Series datatype\n",
    "top_birds = data.value_counts('Common name')[0:20]\n",
    "top_birds_list = top_birds.index.to_list()\n",
    "top_birds"
   ]
  },
  {
   "cell_type": "code",
   "execution_count": 15,
   "metadata": {},
   "outputs": [],
   "source": [
    "# For each bird on the list, retrieve all rows with corresponding common name as a separate dataframe and export dataframe to file\n",
    "\n",
    "PATH = 'Datasets/Machine Learning/Birds/'\n",
    "for bird in top_birds_list:\n",
    "    data.loc[data['Common name'] == bird].to_csv(PATH+bird.replace(' ','_')+'.csv')\n"
   ]
  }
 ],
 "metadata": {
  "kernelspec": {
   "display_name": "Python 3.9.13 ('env': venv)",
   "language": "python",
   "name": "python3"
  },
  "language_info": {
   "codemirror_mode": {
    "name": "ipython",
    "version": 3
   },
   "file_extension": ".py",
   "mimetype": "text/x-python",
   "name": "python",
   "nbconvert_exporter": "python",
   "pygments_lexer": "ipython3",
   "version": "3.9.13"
  },
  "orig_nbformat": 4,
  "vscode": {
   "interpreter": {
    "hash": "f025c48a9b67ab76bdc0400dfa0f9ba99120976b4a6ec6a63d1c946516165c91"
   }
  }
 },
 "nbformat": 4,
 "nbformat_minor": 2
}
